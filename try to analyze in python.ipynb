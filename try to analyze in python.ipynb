{
 "cells": [
  {
   "cell_type": "code",
   "execution_count": 6,
   "metadata": {},
   "outputs": [
    {
     "name": "stdout",
     "output_type": "stream",
     "text": [
      "(5807, 14)\n",
      "Event_id           object\n",
      "Created_date       object\n",
      "Description        object\n",
      "Duration            int64\n",
      "event_url          object\n",
      "fee_amount        float64\n",
      "currency           object\n",
      "group_id            int64\n",
      "event_name         object\n",
      "event_status       object\n",
      "event_time         object\n",
      "venue_id            int64\n",
      "visibility         object\n",
      "waitlist_count      int64\n",
      "dtype: object\n",
      "    Event_id         Created_date  \\\n",
      "0  153868222  2013-12-03 21:24:29   \n",
      "1  184167702  2014-05-20 18:52:00   \n",
      "2  215200502  2014-10-23 16:18:44   \n",
      "3  220826782  2015-02-28 19:27:32   \n",
      "4  227948102  2016-01-08 21:35:40   \n",
      "\n",
      "                                         Description  Duration  \\\n",
      "0  Solve the murder case while eating a 3 course ...     20700   \n",
      "1  NOTE: This event is EVERY FRIDAY!! Signup is a...     77400   \n",
      "2  We'll be heading out with a group of travelers...     37800   \n",
      "3  NOTE: This event is EVERY FRIDAY!! Signup is a...    113400   \n",
      "4  Aussie Aussie Aussie, Oi Oi Oi! Join us for th...     36000   \n",
      "\n",
      "                                           event_url  fee_amount   currency  \\\n",
      "0  https://www.meetup.com/SanFranciscoStartupFun/...         0.0  not_found   \n",
      "1  https://www.meetup.com/hr-and-tech-sf/events/1...         0.0  not_found   \n",
      "2  https://www.meetup.com/hr-and-tech-sf/events/2...         0.0  not_found   \n",
      "3  https://www.meetup.com/SanFranciscoStartupFun/...         0.0  not_found   \n",
      "4  https://www.meetup.com/hr-and-tech-sf/events/2...         0.0  not_found   \n",
      "\n",
      "   group_id                                         event_name event_status  \\\n",
      "0   5817262  Murder Mystery Dinner Crawl. Dine at 3 Restaur...     upcoming   \n",
      "1   1627081  Friday Night Drinks with International Travele...     upcoming   \n",
      "2   1627081            Dinner, Comedy, 100 Beers & Debauchery!     upcoming   \n",
      "3   5817262                                Friday Night Drinks     upcoming   \n",
      "4   1627081  AUSTRALIA DAY PARTY & Sausage Sizzle! $3 Beer/...     upcoming   \n",
      "\n",
      "            event_time  venue_id visibility  waitlist_count  \n",
      "0  2017-10-30 02:30:00  23729697     public               0  \n",
      "1  2017-10-28 04:00:00  16948982     public               0  \n",
      "2  2017-10-27 03:00:00  24717469     public               0  \n",
      "3  2017-10-28 04:00:00    724783     public               0  \n",
      "4  2018-01-26 01:00:00  20984572     public               0  \n"
     ]
    },
    {
     "data": {
      "image/png": "[encoded data removed]",
      "text/plain": [
       "<Figure size 432x288 with 1 Axes>"
      ]
     },
     "metadata": {
      "needs_background": "light"
     },
     "output_type": "display_data"
    },
    {
     "name": "stdout",
     "output_type": "stream",
     "text": [
      "[10800  9000  9000 ... 10800 10800  8100]\n"
     ]
    }
   ],
   "source": [
    "import pandas as pd\n",
    "import sqlite3\n",
    "import matplotlib.pyplot as plt\n",
    "from sklearn import linear_model\n",
    "from sklearn.model_selection import train_test_split\n",
    "from sklearn.cluster import KMeans\n",
    "with sqlite3.connect('meetsup.db') as con :\n",
    "    df= pd.read_sql_query(\"SELECT * FROM Events\", con=con)\n",
    "\n",
    "    # view data\n",
    "\n",
    "    print(df.shape)\n",
    "    print(df.dtypes)\n",
    "    print(df.head())\n",
    "    x = df['Duration'].values\n",
    "    y = df['fee_amount'].values\n",
    "    plt.scatter(x, y)\n",
    "    plt.show()\n",
    "\n",
    "    # Seems no relationship between x and y.\n",
    "    # divide dataset into training set and testing set.\n",
    "\n",
    "    x_train, x_test, y_train, y_test = train_test_split(x, y,\n",
    "                                                        test_size= 0.1, random_state=42)\n",
    "    print(x_train)\n",
    "\n",
    "    # lets find some relationship between Duration and fee_amount.\n",
    "    # linear model\n",
    "    lm = linear_model.LinearRegression()\n",
    "    lm.fit=lm.fit(x_train.reshape(-1,1), y_train.reshape(-1,1))\n",
    "\n",
    "    # we can also try other machine learning algorithm with .db files."
   ]
  },
  {
   "cell_type": "code",
   "execution_count": null,
   "metadata": {},
   "outputs": [],
   "source": []
  }
 ],
 "metadata": {
  "kernelspec": {
   "display_name": "Python 3",
   "language": "python",
   "name": "python3"
  },
  "language_info": {
   "codemirror_mode": {
    "name": "ipython",
    "version": 3
   },
   "file_extension": ".py",
   "mimetype": "text/x-python",
   "name": "python",
   "nbconvert_exporter": "python",
   "pygments_lexer": "ipython3",
   "version": "3.7.3"
  }
 },
 "nbformat": 4,
 "nbformat_minor": 2
}
